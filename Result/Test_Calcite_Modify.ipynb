{
 "cells": [
  {
   "cell_type": "code",
   "execution_count": 39,
   "metadata": {},
   "outputs": [
    {
     "name": "stdout",
     "output_type": "stream",
     "text": [
      "200\n",
      "b'{\"blocks\":{\"id\":\"BLOCK_SELECT@40021799\",\"fields\":[\"DRINKER VARCHAR(100)\"],\"isDistinct\":false,\"selectList\":[{\"id\":\"COLUMN_LOCAL@159a48a6\",\"value\":\"NS_SETOP@57b75756.DRINKER\",\"pos\":{\"lineNum\":1,\"columnNum\":8,\"endLineNum\":1,\"endColumnNum\":18,\"quoted\":false},\"children\":[]}],\"fromItemIds\":[\"NS_SETOP@57b75756\",\"NS_SELECT@f72203\"],\"fromNode\":{\"id\":\"OP_JOIN@67a056f1\",\"value\":\"COMMA\",\"pos\":{\"lineNum\":7,\"columnNum\":74,\"endLineNum\":7,\"endColumnNum\":74,\"quoted\":false},\"children\":[{\"id\":\"JOIN_OPERAND@66e889df\",\"value\":\"BLOCK_SETOP@66e889df\",\"pos\":{\"lineNum\":3,\"columnNum\":3,\"endLineNum\":7,\"endColumnNum\":64,\"quoted\":false},\"children\":[]},{\"id\":\"JOIN_OPERAND@8c46918\",\"value\":\"BLOCK_SELECT@8c46918\",\"pos\":{\"lineNum\":7,\"columnNum\":77,\"endLineNum\":7,\"endColumnNum\":93,\"quoted\":false},\"children\":[]}],\"natural\":false},\"isAggregate\":false,\"identifiers\":[{\"id\":\"COLUMN_LOCAL@159a48a6\",\"value\":\"NS_SETOP@57b75756.DRINKER\",\"pos\":{\"lineNum\":1,\"columnNum\":8,\"endLineNum\":1,\"endColumnNum\":18,\"quoted\":false},\"children\":[]}],\"incomingIdentifiers\":[],\"corrTableIds\":[],\"corrCtxIds\":[],\"pos\":{\"lineNum\":1,\"columnNum\":1,\"endLineNum\":7,\"endColumnNum\":102,\"quoted\":false},\"children\":{\"BLOCK_SELECT@8c46918\":{\"id\":\"BLOCK_SELECT@8c46918\",\"parentId\":\"BLOCK_SELECT@40021799\",\"alias\":\"ANS1\",\"fields\":[\"name VARCHAR(100)\",\"address VARCHAR(100)\"],\"isDistinct\":false,\"selectList\":[{\"id\":\"COLUMN_STAR@540dbda9\",\"value\":\"*\",\"pos\":{\"lineNum\":7,\"columnNum\":84,\"endLineNum\":7,\"endColumnNum\":84,\"quoted\":false},\"children\":[]}],\"fromItemIds\":[\"NS_IDENT@377008df\"],\"fromNode\":{\"id\":\"JOIN_OPERAND@226b143b\",\"value\":\"NS_IDENT@377008df\",\"pos\":{\"lineNum\":7,\"columnNum\":91,\"endLineNum\":7,\"endColumnNum\":93,\"quoted\":false},\"children\":[]},\"isAggregate\":false,\"identifiers\":[],\"incomingIdentifiers\":[],\"corrTableIds\":[],\"corrCtxIds\":[],\"pos\":{\"lineNum\":7,\"columnNum\":77,\"endLineNum\":7,\"endColumnNum\":93,\"quoted\":false},\"children\":{}},\"BLOCK_SETOP@66e889df\":{\"id\":\"BLOCK_SETOP@66e889df\",\"parentId\":\"BLOCK_SELECT@40021799\",\"alias\":\"ANS\",\"fields\":[\"DRINKER VARCHAR(100)\",\"BAR VARCHAR(100)\"],\"opName\":\"EXCEPT\",\"all\":false,\"leftBlockId\":\"BLOCK_SELECT@55b8dbda\",\"rightBlockId\":\"BLOCK_SELECT@af78c87\",\"pos\":{\"lineNum\":3,\"columnNum\":3,\"endLineNum\":7,\"endColumnNum\":64,\"quoted\":false},\"children\":{\"BLOCK_SELECT@af78c87\":{\"id\":\"BLOCK_SELECT@af78c87\",\"parentId\":\"BLOCK_SETOP@66e889df\",\"fields\":[\"DRINKER VARCHAR(100)\",\"BAR VARCHAR(100)\"],\"isDistinct\":true,\"selectList\":[{\"id\":\"COLUMN_LOCAL@67c277a0\",\"value\":\"NS_IDENT@1f52eb6f.DRINKER\",\"pos\":{\"lineNum\":5,\"columnNum\":18,\"endLineNum\":5,\"endColumnNum\":26,\"quoted\":false},\"children\":[]},{\"id\":\"COLUMN_LOCAL@3fa76c61\",\"value\":\"NS_IDENT@1f52eb6f.BAR\",\"pos\":{\"lineNum\":5,\"columnNum\":29,\"endLineNum\":5,\"endColumnNum\":33,\"quoted\":false},\"children\":[]}],\"fromItemIds\":[\"NS_IDENT@1f52eb6f\",\"NS_IDENT@57d0fc89\",\"NS_IDENT@58294867\"],\"fromNode\":{\"id\":\"OP_JOIN@773dab28\",\"value\":\"COMMA\",\"pos\":{\"lineNum\":6,\"columnNum\":26,\"endLineNum\":6,\"endColumnNum\":26,\"quoted\":false},\"children\":[{\"id\":\"OP_JOIN@1ecfcbc9\",\"value\":\"COMMA\",\"pos\":{\"lineNum\":6,\"columnNum\":17,\"endLineNum\":6,\"endColumnNum\":17,\"quoted\":false},\"children\":[{\"id\":\"JOIN_OPERAND@1965539b\",\"value\":\"NS_IDENT@1f52eb6f\",\"pos\":{\"lineNum\":6,\"columnNum\":6,\"endLineNum\":6,\"endColumnNum\":14,\"quoted\":false},\"children\":[]},{\"id\":\"JOIN_OPERAND@2fc07784\",\"value\":\"NS_IDENT@57d0fc89\",\"pos\":{\"lineNum\":6,\"columnNum\":19,\"endLineNum\":6,\"endColumnNum\":23,\"quoted\":false},\"children\":[]}],\"natural\":false},{\"id\":\"JOIN_OPERAND@4a55a6e8\",\"value\":\"NS_IDENT@58294867\",\"pos\":{\"lineNum\":6,\"columnNum\":28,\"endLineNum\":6,\"endColumnNum\":33,\"quoted\":false},\"children\":[]}],\"natural\":false},\"whereNode\":{\"id\":\"OP_BINARY@723ed581\",\"value\":\"AND\",\"pos\":{\"lineNum\":7,\"columnNum\":7,\"endLineNum\":7,\"endColumnNum\":64,\"quoted\":false},\"children\":[{\"id\":\"OP_BINARY@3b0ee03a\",\"value\":\"AND\",\"pos\":{\"lineNum\":7,\"columnNum\":7,\"endLineNum\":7,\"endColumnNum\":45,\"quoted\":false},\"children\":[{\"id\":\"OP_BINARY@2532b351\",\"value\":\"=\",\"pos\":{\"lineNum\":7,\"columnNum\":7,\"endLineNum\":7,\"endColumnNum\":27,\"quoted\":false},\"children\":[{\"id\":\"COLUMN_LOCAL@127f9161\",\"value\":\"NS_IDENT@1f52eb6f.drinker\",\"pos\":{\"lineNum\":7,\"columnNum\":7,\"endLineNum\":7,\"endColumnNum\":15,\"quoted\":false},\"children\":[]},{\"id\":\"COLUMN_LOCAL@2bf94401\",\"value\":\"NS_IDENT@57d0fc89.drinker\",\"pos\":{\"lineNum\":7,\"columnNum\":19,\"endLineNum\":7,\"endColumnNum\":27,\"quoted\":false},\"children\":[]}]},{\"id\":\"OP_BINARY@b967222\",\"value\":\"=\",\"pos\":{\"lineNum\":7,\"columnNum\":33,\"endLineNum\":7,\"endColumnNum\":45,\"quoted\":false},\"children\":[{\"id\":\"COLUMN_LOCAL@4349754\",\"value\":\"NS_IDENT@1f52eb6f.bar\",\"pos\":{\"lineNum\":7,\"columnNum\":33,\"endLineNum\":7,\"endColumnNum\":37,\"quoted\":false},\"children\":[]},{\"id\":\"COLUMN_LOCAL@6a2eea2a\",\"value\":\"NS_IDENT@58294867.bar\",\"pos\":{\"lineNum\":7,\"columnNum\":41,\"endLineNum\":7,\"endColumnNum\":45,\"quoted\":false},\"children\":[]}]}]},{\"id\":\"OP_BINARY@3e7dfd44\",\"value\":\"=\",\"pos\":{\"lineNum\":7,\"columnNum\":51,\"endLineNum\":7,\"endColumnNum\":64,\"quoted\":false},\"children\":[{\"id\":\"COLUMN_LOCAL@1ba05e38\",\"value\":\"NS_IDENT@57d0fc89.beer\",\"pos\":{\"lineNum\":7,\"columnNum\":51,\"endLineNum\":7,\"endColumnNum\":56,\"quoted\":false},\"children\":[]},{\"id\":\"COLUMN_LOCAL@6c298dc\",\"value\":\"NS_IDENT@58294867.beer\",\"pos\":{\"lineNum\":7,\"columnNum\":59,\"endLineNum\":7,\"endColumnNum\":64,\"quoted\":false},\"children\":[]}]}]},\"isAggregate\":false,\"identifiers\":[{\"id\":\"COLUMN_LOCAL@6a2eea2a\",\"value\":\"NS_IDENT@58294867.bar\",\"pos\":{\"lineNum\":7,\"columnNum\":41,\"endLineNum\":7,\"endColumnNum\":45,\"quoted\":false},\"children\":[]},{\"id\":\"COLUMN_LOCAL@4349754\",\"value\":\"NS_IDENT@1f52eb6f.bar\",\"pos\":{\"lineNum\":7,\"columnNum\":33,\"endLineNum\":7,\"endColumnNum\":37,\"quoted\":false},\"children\":[]},{\"id\":\"COLUMN_LOCAL@6c298dc\",\"value\":\"NS_IDENT@58294867.beer\",\"pos\":{\"lineNum\":7,\"columnNum\":59,\"endLineNum\":7,\"endColumnNum\":64,\"quoted\":false},\"children\":[]},{\"id\":\"COLUMN_LOCAL@67c277a0\",\"value\":\"NS_IDENT@1f52eb6f.DRINKER\",\"pos\":{\"lineNum\":5,\"columnNum\":18,\"endLineNum\":5,\"endColumnNum\":26,\"quoted\":false},\"children\":[]},{\"id\":\"COLUMN_LOCAL@127f9161\",\"value\":\"NS_IDENT@1f52eb6f.drinker\",\"pos\":{\"lineNum\":7,\"columnNum\":7,\"endLineNum\":7,\"endColumnNum\":15,\"quoted\":false},\"children\":[]},{\"id\":\"COLUMN_LOCAL@2bf94401\",\"value\":\"NS_IDENT@57d0fc89.drinker\",\"pos\":{\"lineNum\":7,\"columnNum\":19,\"endLineNum\":7,\"endColumnNum\":27,\"quoted\":false},\"children\":[]},{\"id\":\"COLUMN_LOCAL@3fa76c61\",\"value\":\"NS_IDENT@1f52eb6f.BAR\",\"pos\":{\"lineNum\":5,\"columnNum\":29,\"endLineNum\":5,\"endColumnNum\":33,\"quoted\":false},\"children\":[]},{\"id\":\"COLUMN_LOCAL@1ba05e38\",\"value\":\"NS_IDENT@57d0fc89.beer\",\"pos\":{\"lineNum\":7,\"columnNum\":51,\"endLineNum\":7,\"endColumnNum\":56,\"quoted\":false},\"children\":[]}],\"incomingIdentifiers\":[],\"corrTableIds\":[],\"corrCtxIds\":[],\"pos\":{\"lineNum\":5,\"columnNum\":2,\"endLineNum\":7,\"endColumnNum\":64,\"quoted\":false},\"children\":{}},\"BLOCK_SELECT@55b8dbda\":{\"id\":\"BLOCK_SELECT@55b8dbda\",\"parentId\":\"BLOCK_SETOP@66e889df\",\"fields\":[\"DRINKER VARCHAR(100)\",\"BAR VARCHAR(100)\"],\"isDistinct\":false,\"selectList\":[{\"id\":\"COLUMN_LOCAL@17271176\",\"value\":\"NS_IDENT@2679311f.DRINKER\",\"pos\":{\"lineNum\":3,\"columnNum\":10,\"endLineNum\":3,\"endColumnNum\":16,\"quoted\":false},\"children\":[]},{\"id\":\"COLUMN_LOCAL@2e34384c\",\"value\":\"NS_IDENT@2679311f.BAR\",\"pos\":{\"lineNum\":3,\"columnNum\":19,\"endLineNum\":3,\"endColumnNum\":21,\"quoted\":false},\"children\":[]}],\"fromItemIds\":[\"NS_IDENT@2679311f\"],\"fromNode\":{\"id\":\"JOIN_OPERAND@7ca0863b\",\"value\":\"NS_IDENT@2679311f\",\"pos\":{\"lineNum\":3,\"columnNum\":28,\"endLineNum\":3,\"endColumnNum\":36,\"quoted\":false},\"children\":[]},\"isAggregate\":false,\"identifiers\":[{\"id\":\"COLUMN_LOCAL@2e34384c\",\"value\":\"NS_IDENT@2679311f.BAR\",\"pos\":{\"lineNum\":3,\"columnNum\":19,\"endLineNum\":3,\"endColumnNum\":21,\"quoted\":false},\"children\":[]},{\"id\":\"COLUMN_LOCAL@17271176\",\"value\":\"NS_IDENT@2679311f.DRINKER\",\"pos\":{\"lineNum\":3,\"columnNum\":10,\"endLineNum\":3,\"endColumnNum\":16,\"quoted\":false},\"children\":[]}],\"incomingIdentifiers\":[],\"corrTableIds\":[],\"corrCtxIds\":[],\"pos\":{\"lineNum\":3,\"columnNum\":3,\"endLineNum\":3,\"endColumnNum\":36,\"quoted\":false},\"children\":{}}}}}},\"tables\":{\"NS_IDENT@377008df\":{\"tableId\":\"NS_IDENT@377008df\",\"identifier\":\"BAR\",\"dbTableName\":\"BAR\",\"fields\":[\"name VARCHAR(100)\",\"address VARCHAR(100)\"],\"cursor\":[0],\"pos\":{\"lineNum\":7,\"columnNum\":91,\"endLineNum\":7,\"endColumnNum\":93,\"quoted\":false}},\"NS_IDENT@2679311f\":{\"tableId\":\"NS_IDENT@2679311f\",\"identifier\":\"FREQUENTS\",\"dbTableName\":\"FREQUENTS\",\"fields\":[\"drinker VARCHAR(100)\",\"bar VARCHAR(100)\",\"times_a_week INTEGER\"],\"cursor\":[0],\"pos\":{\"lineNum\":3,\"columnNum\":28,\"endLineNum\":3,\"endColumnNum\":36,\"quoted\":false}},\"NS_IDENT@1f52eb6f\":{\"tableId\":\"NS_IDENT@1f52eb6f\",\"identifier\":\"F\",\"dbTableName\":\"FREQUENTS\",\"fields\":[\"drinker VARCHAR(100)\",\"bar VARCHAR(100)\",\"times_a_week INTEGER\"],\"cursor\":[0],\"pos\":{\"lineNum\":6,\"columnNum\":6,\"endLineNum\":6,\"endColumnNum\":16,\"quoted\":false}},\"NS_SELECT@f72203\":{\"tableId\":\"NS_SELECT@f72203\",\"identifier\":\"ANS1\",\"blockId\":\"BLOCK_SELECT@8c46918\",\"fields\":[\"name VARCHAR(100)\",\"address VARCHAR(100)\"],\"cursor\":[0],\"pos\":{\"lineNum\":7,\"columnNum\":77,\"endLineNum\":7,\"endColumnNum\":102,\"quoted\":false}},\"NS_IDENT@58294867\":{\"tableId\":\"NS_IDENT@58294867\",\"identifier\":\"S\",\"dbTableName\":\"SERVES\",\"fields\":[\"bar VARCHAR(100)\",\"beer VARCHAR(100)\",\"price DECIMAL(5, 2)\"],\"cursor\":[0],\"pos\":{\"lineNum\":6,\"columnNum\":28,\"endLineNum\":6,\"endColumnNum\":35,\"quoted\":false}},\"NS_IDENT@57d0fc89\":{\"tableId\":\"NS_IDENT@57d0fc89\",\"identifier\":\"L\",\"dbTableName\":\"LIKES\",\"fields\":[\"drinker VARCHAR(100)\",\"beer VARCHAR(100)\"],\"cursor\":[0],\"pos\":{\"lineNum\":6,\"columnNum\":19,\"endLineNum\":6,\"endColumnNum\":25,\"quoted\":false}},\"NS_SETOP@57b75756\":{\"tableId\":\"NS_SETOP@57b75756\",\"identifier\":\"ANS\",\"blockId\":\"BLOCK_SETOP@66e889df\",\"fields\":[\"DRINKER VARCHAR(100)\",\"BAR VARCHAR(100)\"],\"cursor\":[0],\"pos\":{\"lineNum\":3,\"columnNum\":3,\"endLineNum\":7,\"endColumnNum\":64,\"quoted\":false}}},\"corrTables\":[]}\\n'\n"
     ]
    }
   ],
   "source": [
    "import requests\n",
    "import json\n",
    "import os\n",
    "import csv\n",
    "\n",
    "def Test():\n",
    "    url = \"http://vcm-16918.vm.duke.edu:7000/analyze_query_json\"\n",
    "#     url = \"http://hnrq.cs.duke.edu/irex_backend/analyze_query_json\"\n",
    "    headers = {'Content-Type': 'text/plain'}\n",
    "    requests.timeout = 10\n",
    "    \n",
    "    query = \"\"\"select ans.drinker\n",
    "from \n",
    "((select drinker, bar from frequents) \n",
    "except \n",
    "(select distinct f.drinker, f.bar \n",
    "from frequents f, likes l, serves s \n",
    "where f.drinker = l.drinker and f.bar = s.bar and l.beer =s.beer)) as ans, (select * from bar) as ans1\"\"\"\n",
    "    x = requests.post(url, data=query, headers = headers)\n",
    "    print(x.status_code)\n",
    "    print(x.content)\n",
    "\n",
    "Test()"
   ]
  },
  {
   "cell_type": "code",
   "execution_count": null,
   "metadata": {},
   "outputs": [],
   "source": []
  }
 ],
 "metadata": {
  "kernelspec": {
   "display_name": "Python 3",
   "language": "python",
   "name": "python3"
  },
  "language_info": {
   "codemirror_mode": {
    "name": "ipython",
    "version": 3
   },
   "file_extension": ".py",
   "mimetype": "text/x-python",
   "name": "python",
   "nbconvert_exporter": "python",
   "pygments_lexer": "ipython3",
   "version": "3.7.4"
  }
 },
 "nbformat": 4,
 "nbformat_minor": 2
}
